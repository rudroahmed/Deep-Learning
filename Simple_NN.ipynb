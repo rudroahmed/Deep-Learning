{
  "nbformat": 4,
  "nbformat_minor": 0,
  "metadata": {
    "colab": {
      "provenance": [],
      "include_colab_link": true
    },
    "kernelspec": {
      "name": "python3",
      "display_name": "Python 3"
    },
    "language_info": {
      "name": "python"
    }
  },
  "cells": [
    {
      "cell_type": "markdown",
      "metadata": {
        "id": "view-in-github",
        "colab_type": "text"
      },
      "source": [
        "<a href=\"https://colab.research.google.com/github/rudroahmed/Deep-Learning/blob/main/Simple_NN.ipynb\" target=\"_parent\"><img src=\"https://colab.research.google.com/assets/colab-badge.svg\" alt=\"Open In Colab\"/></a>"
      ]
    },
    {
      "cell_type": "code",
      "execution_count": null,
      "metadata": {
        "id": "yIcZWeC3ucnp"
      },
      "outputs": [],
      "source": [
        "import pandas as pd\n",
        "import seaborn as sns\n",
        "from sklearn.model_selection import train_test_split\n",
        "from sklearn.preprocessing import StandardScaler\n",
        "import tensorflow as tf"
      ]
    },
    {
      "cell_type": "code",
      "source": [
        "#remove warnings\n",
        "import warnings\n",
        "warnings.filterwarnings('ignore')"
      ],
      "metadata": {
        "id": "fOSp5p7IDQdi"
      },
      "execution_count": null,
      "outputs": []
    },
    {
      "cell_type": "code",
      "source": [
        "from google.colab import drive\n",
        "drive.mount('/content/drive')\n",
        "!ls \"/content/drive/My Drive/Neural Network/\"\n",
        "import numpy as np\n",
        "import matplotlib.pyplot as plt"
      ],
      "metadata": {
        "colab": {
          "base_uri": "https://localhost:8080/"
        },
        "id": "SBuT-a_Unvue",
        "outputId": "a4794c15-fbf1-4327-b277-25ce1babf1ec"
      },
      "execution_count": null,
      "outputs": [
        {
          "output_type": "stream",
          "name": "stdout",
          "text": [
            "Mounted at /content/drive\n",
            "'Simple NN.ipynb'   titanic_dataset.csv   Untitled   Untitled0.ipynb   Untitled1.ipynb\n"
          ]
        }
      ]
    },
    {
      "cell_type": "code",
      "source": [
        "# Load Titanic dataset\n",
        "# Load Titanic dataset using pandas\n",
        "titanic = pd.read_csv('/content/drive/My Drive/Neural Network/titanic_dataset.csv')"
      ],
      "metadata": {
        "id": "ao3kR8zHn_e2"
      },
      "execution_count": null,
      "outputs": []
    },
    {
      "cell_type": "code",
      "source": [
        "titanic.shape"
      ],
      "metadata": {
        "colab": {
          "base_uri": "https://localhost:8080/"
        },
        "id": "r-YiaJE6DSKJ",
        "outputId": "3d5461a0-2ef3-41b9-8844-92a3dab64f71"
      },
      "execution_count": null,
      "outputs": [
        {
          "output_type": "execute_result",
          "data": {
            "text/plain": [
              "(891, 15)"
            ]
          },
          "metadata": {},
          "execution_count": 9
        }
      ]
    },
    {
      "cell_type": "code",
      "source": [
        "#remove warnings\n",
        "import warnings\n",
        "warnings.filterwarnings('ignore')\n",
        "\n",
        "# Load Titanic dataset\n",
        "titanic = sns.load_dataset('titanic')\n",
        "\n",
        "# Preprocessing\n",
        "# Dropping rows with missing 'age' and 'embarked' values\n",
        "titanic.dropna(subset=['age', 'embarked'], inplace=True)\n",
        "\n",
        "# Converting categorical variables to dummy variables\n",
        "titanic = pd.get_dummies(titanic, columns=['sex', 'embarked', 'class', 'who', 'deck'], drop_first=True)\n",
        "\n",
        "# Selecting features and target\n",
        "X = titanic.drop(['survived', 'alive', 'embark_town', 'adult_male', 'alone'], axis=1)\n",
        "y = titanic['survived']\n",
        "\n",
        "# Splitting the dataset\n",
        "X_train, X_test, y_train, y_test = train_test_split(X, y, test_size=0.2, random_state=42)\n",
        "\n",
        "# Standardizing the data\n",
        "scaler = StandardScaler()\n",
        "X_train = scaler.fit_transform(X_train)\n",
        "X_test = scaler.transform(X_test)"
      ],
      "metadata": {
        "id": "WIRzb9ituuBd"
      },
      "execution_count": null,
      "outputs": []
    },
    {
      "cell_type": "code",
      "source": [],
      "metadata": {
        "colab": {
          "base_uri": "https://localhost:8080/"
        },
        "id": "6ue41CMpB3ja",
        "outputId": "5497b9f6-9b37-4afe-860a-1a75f9a83ef4"
      },
      "execution_count": null,
      "outputs": [
        {
          "output_type": "execute_result",
          "data": {
            "text/plain": [
              "array([-0.28934006,  0.87559868,  0.52133471, -0.48226416, -0.12995881,\n",
              "       -1.31741297, -0.18074257,  0.50603423,  1.73408254, -0.99125093,\n",
              "       -1.18786234,  1.50669006, -0.25209403, -0.27126538, -0.18074257,\n",
              "       -0.20984923, -0.12677314, -0.08414063])"
            ]
          },
          "metadata": {},
          "execution_count": 30
        }
      ]
    },
    {
      "cell_type": "code",
      "source": [
        "# Building the model\n",
        "\n",
        "# define the layers of the model\n",
        "input_layer = tf.keras.layers.Dense(10, activation='relu', input_shape=(X_train.shape[1],)) # input layer\n",
        "# hidden_layer = tf.keras.layers.Dense(10, activation='relu') # hidden layer\n",
        "output_layer = tf.keras.layers.Dense(1, activation='sigmoid') # output layer\n",
        "\n",
        "# combine the layers into a model\n",
        "model = tf.keras.models.Sequential([input_layer,\n",
        "                                    # hidden_layer,\n",
        "                                    output_layer])\n",
        "\n",
        "# Compile the model\n",
        "model.compile(optimizer='adam',\n",
        "              loss='binary_crossentropy',\n",
        "              metrics=['accuracy'])"
      ],
      "metadata": {
        "id": "CZ15Kp1cuuEc"
      },
      "execution_count": null,
      "outputs": []
    },
    {
      "cell_type": "code",
      "source": [
        "# Training the model\n",
        "model.fit(X_train, y_train, epochs=100, batch_size=32, verbose=1)"
      ],
      "metadata": {
        "colab": {
          "base_uri": "https://localhost:8080/"
        },
        "id": "VE1qojMTy0Ok",
        "outputId": "8a9d0359-0ad1-42ac-f0c7-914bd46918c9"
      },
      "execution_count": null,
      "outputs": [
        {
          "output_type": "stream",
          "name": "stdout",
          "text": [
            "Epoch 1/100\n",
            "18/18 [==============================] - 0s 4ms/step - loss: 0.3858 - accuracy: 0.8295\n",
            "Epoch 2/100\n",
            "18/18 [==============================] - 0s 3ms/step - loss: 0.3843 - accuracy: 0.8260\n",
            "Epoch 3/100\n",
            "18/18 [==============================] - 0s 2ms/step - loss: 0.3832 - accuracy: 0.8295\n",
            "Epoch 4/100\n",
            "18/18 [==============================] - 0s 3ms/step - loss: 0.3818 - accuracy: 0.8348\n",
            "Epoch 5/100\n",
            "18/18 [==============================] - 0s 3ms/step - loss: 0.3809 - accuracy: 0.8383\n",
            "Epoch 6/100\n",
            "18/18 [==============================] - 0s 3ms/step - loss: 0.3798 - accuracy: 0.8348\n",
            "Epoch 7/100\n",
            "18/18 [==============================] - 0s 3ms/step - loss: 0.3788 - accuracy: 0.8348\n",
            "Epoch 8/100\n",
            "18/18 [==============================] - 0s 2ms/step - loss: 0.3780 - accuracy: 0.8366\n",
            "Epoch 9/100\n",
            "18/18 [==============================] - 0s 3ms/step - loss: 0.3769 - accuracy: 0.8330\n",
            "Epoch 10/100\n",
            "18/18 [==============================] - 0s 3ms/step - loss: 0.3761 - accuracy: 0.8330\n",
            "Epoch 11/100\n",
            "18/18 [==============================] - 0s 2ms/step - loss: 0.3755 - accuracy: 0.8330\n",
            "Epoch 12/100\n",
            "18/18 [==============================] - 0s 2ms/step - loss: 0.3745 - accuracy: 0.8330\n",
            "Epoch 13/100\n",
            "18/18 [==============================] - 0s 3ms/step - loss: 0.3737 - accuracy: 0.8313\n",
            "Epoch 14/100\n",
            "18/18 [==============================] - 0s 2ms/step - loss: 0.3728 - accuracy: 0.8348\n",
            "Epoch 15/100\n",
            "18/18 [==============================] - 0s 2ms/step - loss: 0.3721 - accuracy: 0.8330\n",
            "Epoch 16/100\n",
            "18/18 [==============================] - 0s 2ms/step - loss: 0.3717 - accuracy: 0.8313\n",
            "Epoch 17/100\n",
            "18/18 [==============================] - 0s 2ms/step - loss: 0.3709 - accuracy: 0.8383\n",
            "Epoch 18/100\n",
            "18/18 [==============================] - 0s 3ms/step - loss: 0.3699 - accuracy: 0.8330\n",
            "Epoch 19/100\n",
            "18/18 [==============================] - 0s 2ms/step - loss: 0.3695 - accuracy: 0.8330\n",
            "Epoch 20/100\n",
            "18/18 [==============================] - 0s 2ms/step - loss: 0.3687 - accuracy: 0.8313\n",
            "Epoch 21/100\n",
            "18/18 [==============================] - 0s 2ms/step - loss: 0.3686 - accuracy: 0.8348\n",
            "Epoch 22/100\n",
            "18/18 [==============================] - 0s 2ms/step - loss: 0.3674 - accuracy: 0.8313\n",
            "Epoch 23/100\n",
            "18/18 [==============================] - 0s 2ms/step - loss: 0.3668 - accuracy: 0.8366\n",
            "Epoch 24/100\n",
            "18/18 [==============================] - 0s 3ms/step - loss: 0.3666 - accuracy: 0.8401\n",
            "Epoch 25/100\n",
            "18/18 [==============================] - 0s 3ms/step - loss: 0.3662 - accuracy: 0.8313\n",
            "Epoch 26/100\n",
            "18/18 [==============================] - 0s 2ms/step - loss: 0.3655 - accuracy: 0.8330\n",
            "Epoch 27/100\n",
            "18/18 [==============================] - 0s 3ms/step - loss: 0.3650 - accuracy: 0.8348\n",
            "Epoch 28/100\n",
            "18/18 [==============================] - 0s 2ms/step - loss: 0.3644 - accuracy: 0.8348\n",
            "Epoch 29/100\n",
            "18/18 [==============================] - 0s 3ms/step - loss: 0.3641 - accuracy: 0.8366\n",
            "Epoch 30/100\n",
            "18/18 [==============================] - 0s 3ms/step - loss: 0.3636 - accuracy: 0.8383\n",
            "Epoch 31/100\n",
            "18/18 [==============================] - 0s 2ms/step - loss: 0.3630 - accuracy: 0.8436\n",
            "Epoch 32/100\n",
            "18/18 [==============================] - 0s 2ms/step - loss: 0.3628 - accuracy: 0.8436\n",
            "Epoch 33/100\n",
            "18/18 [==============================] - 0s 2ms/step - loss: 0.3619 - accuracy: 0.8471\n",
            "Epoch 34/100\n",
            "18/18 [==============================] - 0s 2ms/step - loss: 0.3614 - accuracy: 0.8471\n",
            "Epoch 35/100\n",
            "18/18 [==============================] - 0s 2ms/step - loss: 0.3613 - accuracy: 0.8489\n",
            "Epoch 36/100\n",
            "18/18 [==============================] - 0s 3ms/step - loss: 0.3607 - accuracy: 0.8471\n",
            "Epoch 37/100\n",
            "18/18 [==============================] - 0s 3ms/step - loss: 0.3607 - accuracy: 0.8453\n",
            "Epoch 38/100\n",
            "18/18 [==============================] - 0s 3ms/step - loss: 0.3597 - accuracy: 0.8489\n",
            "Epoch 39/100\n",
            "18/18 [==============================] - 0s 2ms/step - loss: 0.3594 - accuracy: 0.8489\n",
            "Epoch 40/100\n",
            "18/18 [==============================] - 0s 2ms/step - loss: 0.3596 - accuracy: 0.8471\n",
            "Epoch 41/100\n",
            "18/18 [==============================] - 0s 3ms/step - loss: 0.3588 - accuracy: 0.8471\n",
            "Epoch 42/100\n",
            "18/18 [==============================] - 0s 3ms/step - loss: 0.3582 - accuracy: 0.8489\n",
            "Epoch 43/100\n",
            "18/18 [==============================] - 0s 2ms/step - loss: 0.3582 - accuracy: 0.8506\n",
            "Epoch 44/100\n",
            "18/18 [==============================] - 0s 2ms/step - loss: 0.3575 - accuracy: 0.8471\n",
            "Epoch 45/100\n",
            "18/18 [==============================] - 0s 3ms/step - loss: 0.3570 - accuracy: 0.8489\n",
            "Epoch 46/100\n",
            "18/18 [==============================] - 0s 3ms/step - loss: 0.3566 - accuracy: 0.8453\n",
            "Epoch 47/100\n",
            "18/18 [==============================] - 0s 3ms/step - loss: 0.3569 - accuracy: 0.8471\n",
            "Epoch 48/100\n",
            "18/18 [==============================] - 0s 3ms/step - loss: 0.3559 - accuracy: 0.8489\n",
            "Epoch 49/100\n",
            "18/18 [==============================] - 0s 2ms/step - loss: 0.3562 - accuracy: 0.8506\n",
            "Epoch 50/100\n",
            "18/18 [==============================] - 0s 2ms/step - loss: 0.3557 - accuracy: 0.8471\n",
            "Epoch 51/100\n",
            "18/18 [==============================] - 0s 2ms/step - loss: 0.3553 - accuracy: 0.8471\n",
            "Epoch 52/100\n",
            "18/18 [==============================] - 0s 3ms/step - loss: 0.3556 - accuracy: 0.8489\n",
            "Epoch 53/100\n",
            "18/18 [==============================] - 0s 4ms/step - loss: 0.3547 - accuracy: 0.8471\n",
            "Epoch 54/100\n",
            "18/18 [==============================] - 0s 2ms/step - loss: 0.3546 - accuracy: 0.8471\n",
            "Epoch 55/100\n",
            "18/18 [==============================] - 0s 2ms/step - loss: 0.3540 - accuracy: 0.8471\n",
            "Epoch 56/100\n",
            "18/18 [==============================] - 0s 2ms/step - loss: 0.3540 - accuracy: 0.8506\n",
            "Epoch 57/100\n",
            "18/18 [==============================] - 0s 2ms/step - loss: 0.3529 - accuracy: 0.8489\n",
            "Epoch 58/100\n",
            "18/18 [==============================] - 0s 3ms/step - loss: 0.3529 - accuracy: 0.8489\n",
            "Epoch 59/100\n",
            "18/18 [==============================] - 0s 3ms/step - loss: 0.3533 - accuracy: 0.8471\n",
            "Epoch 60/100\n",
            "18/18 [==============================] - 0s 2ms/step - loss: 0.3530 - accuracy: 0.8453\n",
            "Epoch 61/100\n",
            "18/18 [==============================] - 0s 2ms/step - loss: 0.3525 - accuracy: 0.8471\n",
            "Epoch 62/100\n",
            "18/18 [==============================] - 0s 2ms/step - loss: 0.3519 - accuracy: 0.8471\n",
            "Epoch 63/100\n",
            "18/18 [==============================] - 0s 2ms/step - loss: 0.3518 - accuracy: 0.8489\n",
            "Epoch 64/100\n",
            "18/18 [==============================] - 0s 2ms/step - loss: 0.3521 - accuracy: 0.8506\n",
            "Epoch 65/100\n",
            "18/18 [==============================] - 0s 2ms/step - loss: 0.3512 - accuracy: 0.8489\n",
            "Epoch 66/100\n",
            "18/18 [==============================] - 0s 3ms/step - loss: 0.3508 - accuracy: 0.8471\n",
            "Epoch 67/100\n",
            "18/18 [==============================] - 0s 3ms/step - loss: 0.3508 - accuracy: 0.8489\n",
            "Epoch 68/100\n",
            "18/18 [==============================] - 0s 2ms/step - loss: 0.3508 - accuracy: 0.8489\n",
            "Epoch 69/100\n",
            "18/18 [==============================] - 0s 3ms/step - loss: 0.3505 - accuracy: 0.8489\n",
            "Epoch 70/100\n",
            "18/18 [==============================] - 0s 2ms/step - loss: 0.3503 - accuracy: 0.8506\n",
            "Epoch 71/100\n",
            "18/18 [==============================] - 0s 3ms/step - loss: 0.3499 - accuracy: 0.8506\n",
            "Epoch 72/100\n",
            "18/18 [==============================] - 0s 2ms/step - loss: 0.3500 - accuracy: 0.8489\n",
            "Epoch 73/100\n",
            "18/18 [==============================] - 0s 3ms/step - loss: 0.3491 - accuracy: 0.8471\n",
            "Epoch 74/100\n",
            "18/18 [==============================] - 0s 2ms/step - loss: 0.3491 - accuracy: 0.8453\n",
            "Epoch 75/100\n",
            "18/18 [==============================] - 0s 3ms/step - loss: 0.3493 - accuracy: 0.8453\n",
            "Epoch 76/100\n",
            "18/18 [==============================] - 0s 3ms/step - loss: 0.3497 - accuracy: 0.8471\n",
            "Epoch 77/100\n",
            "18/18 [==============================] - 0s 2ms/step - loss: 0.3492 - accuracy: 0.8471\n",
            "Epoch 78/100\n",
            "18/18 [==============================] - 0s 2ms/step - loss: 0.3484 - accuracy: 0.8453\n",
            "Epoch 79/100\n",
            "18/18 [==============================] - 0s 3ms/step - loss: 0.3482 - accuracy: 0.8506\n",
            "Epoch 80/100\n",
            "18/18 [==============================] - 0s 2ms/step - loss: 0.3479 - accuracy: 0.8489\n",
            "Epoch 81/100\n",
            "18/18 [==============================] - 0s 2ms/step - loss: 0.3477 - accuracy: 0.8506\n",
            "Epoch 82/100\n",
            "18/18 [==============================] - 0s 2ms/step - loss: 0.3477 - accuracy: 0.8506\n",
            "Epoch 83/100\n",
            "18/18 [==============================] - 0s 3ms/step - loss: 0.3475 - accuracy: 0.8471\n",
            "Epoch 84/100\n",
            "18/18 [==============================] - 0s 2ms/step - loss: 0.3474 - accuracy: 0.8506\n",
            "Epoch 85/100\n",
            "18/18 [==============================] - 0s 2ms/step - loss: 0.3469 - accuracy: 0.8506\n",
            "Epoch 86/100\n",
            "18/18 [==============================] - 0s 2ms/step - loss: 0.3467 - accuracy: 0.8489\n",
            "Epoch 87/100\n",
            "18/18 [==============================] - 0s 4ms/step - loss: 0.3470 - accuracy: 0.8489\n",
            "Epoch 88/100\n",
            "18/18 [==============================] - 0s 3ms/step - loss: 0.3463 - accuracy: 0.8506\n",
            "Epoch 89/100\n",
            "18/18 [==============================] - 0s 2ms/step - loss: 0.3466 - accuracy: 0.8471\n",
            "Epoch 90/100\n",
            "18/18 [==============================] - 0s 3ms/step - loss: 0.3460 - accuracy: 0.8471\n",
            "Epoch 91/100\n",
            "18/18 [==============================] - 0s 2ms/step - loss: 0.3461 - accuracy: 0.8471\n",
            "Epoch 92/100\n",
            "18/18 [==============================] - 0s 3ms/step - loss: 0.3458 - accuracy: 0.8471\n",
            "Epoch 93/100\n",
            "18/18 [==============================] - 0s 2ms/step - loss: 0.3458 - accuracy: 0.8506\n",
            "Epoch 94/100\n",
            "18/18 [==============================] - 0s 3ms/step - loss: 0.3458 - accuracy: 0.8471\n",
            "Epoch 95/100\n",
            "18/18 [==============================] - 0s 3ms/step - loss: 0.3457 - accuracy: 0.8489\n",
            "Epoch 96/100\n",
            "18/18 [==============================] - 0s 3ms/step - loss: 0.3452 - accuracy: 0.8471\n",
            "Epoch 97/100\n",
            "18/18 [==============================] - 0s 2ms/step - loss: 0.3453 - accuracy: 0.8506\n",
            "Epoch 98/100\n",
            "18/18 [==============================] - 0s 2ms/step - loss: 0.3450 - accuracy: 0.8506\n",
            "Epoch 99/100\n",
            "18/18 [==============================] - 0s 3ms/step - loss: 0.3446 - accuracy: 0.8506\n",
            "Epoch 100/100\n",
            "18/18 [==============================] - 0s 3ms/step - loss: 0.3451 - accuracy: 0.8524\n"
          ]
        },
        {
          "output_type": "execute_result",
          "data": {
            "text/plain": [
              "<keras.src.callbacks.History at 0x79dba2dfb9a0>"
            ]
          },
          "metadata": {},
          "execution_count": 25
        }
      ]
    },
    {
      "cell_type": "code",
      "source": [],
      "metadata": {
        "id": "G6O8JUZ7uuLF"
      },
      "execution_count": null,
      "outputs": []
    },
    {
      "cell_type": "code",
      "source": [],
      "metadata": {
        "id": "UfdEU3a_uuOE"
      },
      "execution_count": null,
      "outputs": []
    }
  ]
}